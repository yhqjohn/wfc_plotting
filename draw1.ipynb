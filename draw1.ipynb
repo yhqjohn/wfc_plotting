{
 "cells": [
  {
   "cell_type": "code",
   "execution_count": 6,
   "metadata": {},
   "outputs": [],
   "source": [
    "import torch\n",
    "from torch import nn\n",
    "from metann.meta import MAMLpp, mamlpp_evaluator, RMSPropLearner\n",
    "import data\n",
    "import torch.optim as optim"
   ]
  },
  {
   "cell_type": "code",
   "execution_count": 7,
   "metadata": {},
   "outputs": [],
   "source": [
    "def mse_evaluator(model, data):\n",
    "    x, y = data\n",
    "    o = model(x)\n",
    "    return nn.functional.mse_loss(o, y)\n",
    "\n",
    "\n",
    "def mlp():\n",
    "    return nn.Sequential(\n",
    "        nn.Linear(1, 80),\n",
    "        nn.ReLU(),\n",
    "        nn.Linear(80, 200),\n",
    "        nn.ReLU(),\n",
    "        nn.Linear(200, 200),\n",
    "        nn.ReLU(),\n",
    "        nn.Linear(200, 80),\n",
    "        nn.ReLU(),\n",
    "        nn.Linear(80, 2),\n",
    "    )\n",
    "\n",
    "device = torch.device('cuda' if torch.cuda.is_available() else 'cpu')\n",
    "\n",
    "model = mlp().to(device)\n",
    "maml = MAMLpp(model, 5, 5, lr=1e-1, evaluator=mse_evaluator)"
   ]
  },
  {
   "cell_type": "code",
   "execution_count": 8,
   "metadata": {},
   "outputs": [
    {
     "data": {
      "text/plain": [
       "Sequential(\n",
       "  (0): Linear(in_features=1, out_features=80, bias=True)\n",
       "  (1): ReLU()\n",
       "  (2): Linear(in_features=80, out_features=200, bias=True)\n",
       "  (3): ReLU()\n",
       "  (4): Linear(in_features=200, out_features=200, bias=True)\n",
       "  (5): ReLU()\n",
       "  (6): Linear(in_features=200, out_features=80, bias=True)\n",
       "  (7): ReLU()\n",
       "  (8): Linear(in_features=80, out_features=2, bias=True)\n",
       ")"
      ]
     },
     "execution_count": 8,
     "metadata": {},
     "output_type": "execute_result"
    }
   ],
   "source": [
    "maml.load_state_dict(torch.load('./saved_models/mppt.pth'))\n",
    "model.eval()"
   ]
  },
  {
   "cell_type": "code",
   "execution_count": 26,
   "metadata": {},
   "outputs": [
    {
     "data": {
      "text/plain": [
       "MAMLpp(\n",
       "  (model): Sequential(\n",
       "    (0): Linear(in_features=1, out_features=80, bias=True)\n",
       "    (1): ReLU()\n",
       "    (2): Linear(in_features=80, out_features=200, bias=True)\n",
       "    (3): ReLU()\n",
       "    (4): Linear(in_features=200, out_features=200, bias=True)\n",
       "    (5): ReLU()\n",
       "    (6): Linear(in_features=200, out_features=80, bias=True)\n",
       "    (7): ReLU()\n",
       "    (8): Linear(in_features=80, out_features=2, bias=True)\n",
       "  )\n",
       ")"
      ]
     },
     "execution_count": 26,
     "metadata": {},
     "output_type": "execute_result"
    }
   ],
   "source": [
    "import seaborn as sns\n",
    "import matplotlib.pyplot as plt\n",
    "import pandas as pd\n",
    "%matplotlib inline\n",
    "\n",
    "\n",
    "df = pd.DataFrame({'mod':[], 'logf':[], 'value':[], 'type':[], 'conf':[],})\n",
    "data_provider = data.MetaZDataProvider(root='./data/mppt2/test/',\n",
    "                                       batch_size=[9, 47, 49, 53, 117, 135], \n",
    "                                       batch_size_eval=136, \n",
    "                                       length=5, sampler='sequence')\n",
    "maml.eval()"
   ]
  },
  {
   "cell_type": "code",
   "execution_count": 27,
   "metadata": {},
   "outputs": [
    {
     "name": "stdout",
     "output_type": "stream",
     "text": [
      "0.06903591006994247\n"
     ]
    }
   ],
   "source": [
    "for i, dataset in enumerate(data_provider):\n",
    "    (x, y), (x_test, y_test) = dataset\n",
    "    x = x.to(device)\n",
    "    y = y.to(device)\n",
    "    x_test = x_test.to(device)\n",
    "    y_test = y_test.to(device)\n",
    "    model = maml((x, y))\n",
    "    ys = model(x_test)\n",
    "    print(mse_evaluator(model, (x_test, y_test)).item())\n",
    "    for i in range(len(ys)):\n",
    "        df = df.append({'mod':'out','logf':x_test[i][0].item(), 'value':ys[i][0].item(), 'type':'logr', 'conf':dataset.idx,}, ignore_index=True)\n",
    "        df = df.append({'mod':'gt','logf':x_test[i][0].item(), 'value':y_test[i][0].item(), 'type':'logr', 'conf':dataset.idx,}, ignore_index=True)\n",
    "    for i in range(len(ys)):\n",
    "        df = df.append({'mod':'out','logf':x_test[i][0].item(), 'value':ys[i][0].item(), 'type':'logr', 'conf':'c',}, ignore_index=True)\n",
    "    for i in range(len(x)):\n",
    "        df = df.append({'mod':'gt2','logf':x[i][0].item(), 'value':y[i][0].item(), 'type':'logr', 'conf':'c',}, ignore_index=True)\n",
    "\n",
    "    model_pre = maml.model\n",
    "    ys = model_pre(x_test)\n",
    "    for i in range(len(ys)):\n",
    "        df = df.append({'mod':'out','logf':x_test[i][0].item(), 'value':ys[i][0].item(), 'type':'logr', 'conf':'pre',}, ignore_index=True)\n",
    "\n",
    "    for i in range(len(ys)):\n",
    "        df = df.append({'mod':'out','logf':x_test[i][0].item(), 'value':ys[i][0].item(), 'type':'logr', 'conf':'prec',}, ignore_index=True)\n",
    "    for i in range(len(x)):\n",
    "        df = df.append({'mod':'gt2','logf':x[i][0].item(), 'value':y[i][0].item(), 'type':'logr', 'conf':'prec',}, ignore_index=True)\n",
    "        \n",
    "    break\n"
   ]
  },
  {
   "cell_type": "code",
   "execution_count": 28,
   "metadata": {},
   "outputs": [],
   "source": [
    "df = df.sort_values(['conf', 'logf'])"
   ]
  },
  {
   "cell_type": "code",
   "execution_count": 37,
   "metadata": {},
   "outputs": [
    {
     "data": {
      "image/png": "[encoded data removed]",
      "text/plain": [
       "<Figure size 268.625x864 with 4 Axes>"
      ]
     },
     "metadata": {
      "needs_background": "light"
     },
     "output_type": "display_data"
    }
   ],
   "source": [
    "d = {'ls': ['-', '', ''],\n",
    "#      'c': ['blue', '', ''],\n",
    "     'marker':['','.','o'],\n",
    "     'mfc':['','orange',''],\n",
    "     'mec':['','orange','red'],\n",
    "     'fillstyle':['none','full','none'],\n",
    "     'ms':[6,8,8]}\n",
    "g = sns.FacetGrid(df, row='conf', col=\"type\", hue=\"mod\", hue_kws=d, palette=sns.color_palette(\"deep\"))\n",
    "g.map(plt.plot, \"logf\", \"value\", alpha=.7, lw=5, mew=3)\n",
    "g.set(ylim=(0, 10))\n",
    "# g.set(xscale = 'log')\n",
    "g.add_legend()\n",
    "fig = g.savefig('out.svg', dpi=400)"
   ]
  },
  {
   "cell_type": "code",
   "execution_count": null,
   "metadata": {},
   "outputs": [],
   "source": []
  }
 ],
 "metadata": {
  "kernelspec": {
   "display_name": "Python 3",
   "language": "python",
   "name": "python3"
  },
  "language_info": {
   "codemirror_mode": {
    "name": "ipython",
    "version": 3
   },
   "file_extension": ".py",
   "mimetype": "text/x-python",
   "name": "python",
   "nbconvert_exporter": "python",
   "pygments_lexer": "ipython3",
   "version": "3.8.8"
  }
 },
 "nbformat": 4,
 "nbformat_minor": 1
}
